{
 "cells": [
  {
   "cell_type": "code",
   "execution_count": 1,
   "id": "5fe59946",
   "metadata": {},
   "outputs": [],
   "source": [
    "import pandas as pd\n",
    "import matplotlib.pyplot as plt\n",
    "import seaborn as sns"
   ]
  },
  {
   "cell_type": "code",
   "execution_count": 2,
   "id": "0d293525",
   "metadata": {},
   "outputs": [],
   "source": [
    "df = pd.read_csv('shopping_trends.csv')"
   ]
  },
  {
   "cell_type": "code",
   "execution_count": 3,
   "id": "66fe00fc",
   "metadata": {},
   "outputs": [
    {
     "data": {
      "text/html": [
       "<div>\n",
       "<style scoped>\n",
       "    .dataframe tbody tr th:only-of-type {\n",
       "        vertical-align: middle;\n",
       "    }\n",
       "\n",
       "    .dataframe tbody tr th {\n",
       "        vertical-align: top;\n",
       "    }\n",
       "\n",
       "    .dataframe thead th {\n",
       "        text-align: right;\n",
       "    }\n",
       "</style>\n",
       "<table border=\"1\" class=\"dataframe\">\n",
       "  <thead>\n",
       "    <tr style=\"text-align: right;\">\n",
       "      <th></th>\n",
       "      <th>Customer ID</th>\n",
       "      <th>Age</th>\n",
       "      <th>Gender</th>\n",
       "      <th>Item Purchased</th>\n",
       "      <th>Category</th>\n",
       "      <th>Purchase Amount (USD)</th>\n",
       "      <th>Location</th>\n",
       "      <th>Size</th>\n",
       "      <th>Color</th>\n",
       "      <th>Season</th>\n",
       "      <th>Review Rating</th>\n",
       "      <th>Subscription Status</th>\n",
       "      <th>Payment Method</th>\n",
       "      <th>Shipping Type</th>\n",
       "      <th>Discount Applied</th>\n",
       "      <th>Promo Code Used</th>\n",
       "      <th>Previous Purchases</th>\n",
       "      <th>Preferred Payment Method</th>\n",
       "      <th>Frequency of Purchases</th>\n",
       "    </tr>\n",
       "  </thead>\n",
       "  <tbody>\n",
       "    <tr>\n",
       "      <th>0</th>\n",
       "      <td>1</td>\n",
       "      <td>55</td>\n",
       "      <td>Male</td>\n",
       "      <td>Blouse</td>\n",
       "      <td>Clothing</td>\n",
       "      <td>53</td>\n",
       "      <td>Kentucky</td>\n",
       "      <td>L</td>\n",
       "      <td>Gray</td>\n",
       "      <td>Winter</td>\n",
       "      <td>3.1</td>\n",
       "      <td>Yes</td>\n",
       "      <td>Credit Card</td>\n",
       "      <td>Express</td>\n",
       "      <td>Yes</td>\n",
       "      <td>Yes</td>\n",
       "      <td>14</td>\n",
       "      <td>Venmo</td>\n",
       "      <td>Fortnightly</td>\n",
       "    </tr>\n",
       "    <tr>\n",
       "      <th>1</th>\n",
       "      <td>2</td>\n",
       "      <td>19</td>\n",
       "      <td>Male</td>\n",
       "      <td>Sweater</td>\n",
       "      <td>Clothing</td>\n",
       "      <td>64</td>\n",
       "      <td>Maine</td>\n",
       "      <td>L</td>\n",
       "      <td>Maroon</td>\n",
       "      <td>Winter</td>\n",
       "      <td>3.1</td>\n",
       "      <td>Yes</td>\n",
       "      <td>Bank Transfer</td>\n",
       "      <td>Express</td>\n",
       "      <td>Yes</td>\n",
       "      <td>Yes</td>\n",
       "      <td>2</td>\n",
       "      <td>Cash</td>\n",
       "      <td>Fortnightly</td>\n",
       "    </tr>\n",
       "    <tr>\n",
       "      <th>2</th>\n",
       "      <td>3</td>\n",
       "      <td>50</td>\n",
       "      <td>Male</td>\n",
       "      <td>Jeans</td>\n",
       "      <td>Clothing</td>\n",
       "      <td>73</td>\n",
       "      <td>Massachusetts</td>\n",
       "      <td>S</td>\n",
       "      <td>Maroon</td>\n",
       "      <td>Spring</td>\n",
       "      <td>3.1</td>\n",
       "      <td>Yes</td>\n",
       "      <td>Cash</td>\n",
       "      <td>Free Shipping</td>\n",
       "      <td>Yes</td>\n",
       "      <td>Yes</td>\n",
       "      <td>23</td>\n",
       "      <td>Credit Card</td>\n",
       "      <td>Weekly</td>\n",
       "    </tr>\n",
       "    <tr>\n",
       "      <th>3</th>\n",
       "      <td>4</td>\n",
       "      <td>21</td>\n",
       "      <td>Male</td>\n",
       "      <td>Sandals</td>\n",
       "      <td>Footwear</td>\n",
       "      <td>90</td>\n",
       "      <td>Rhode Island</td>\n",
       "      <td>M</td>\n",
       "      <td>Maroon</td>\n",
       "      <td>Spring</td>\n",
       "      <td>3.5</td>\n",
       "      <td>Yes</td>\n",
       "      <td>PayPal</td>\n",
       "      <td>Next Day Air</td>\n",
       "      <td>Yes</td>\n",
       "      <td>Yes</td>\n",
       "      <td>49</td>\n",
       "      <td>PayPal</td>\n",
       "      <td>Weekly</td>\n",
       "    </tr>\n",
       "    <tr>\n",
       "      <th>4</th>\n",
       "      <td>5</td>\n",
       "      <td>45</td>\n",
       "      <td>Male</td>\n",
       "      <td>Blouse</td>\n",
       "      <td>Clothing</td>\n",
       "      <td>49</td>\n",
       "      <td>Oregon</td>\n",
       "      <td>M</td>\n",
       "      <td>Turquoise</td>\n",
       "      <td>Spring</td>\n",
       "      <td>2.7</td>\n",
       "      <td>Yes</td>\n",
       "      <td>Cash</td>\n",
       "      <td>Free Shipping</td>\n",
       "      <td>Yes</td>\n",
       "      <td>Yes</td>\n",
       "      <td>31</td>\n",
       "      <td>PayPal</td>\n",
       "      <td>Annually</td>\n",
       "    </tr>\n",
       "    <tr>\n",
       "      <th>...</th>\n",
       "      <td>...</td>\n",
       "      <td>...</td>\n",
       "      <td>...</td>\n",
       "      <td>...</td>\n",
       "      <td>...</td>\n",
       "      <td>...</td>\n",
       "      <td>...</td>\n",
       "      <td>...</td>\n",
       "      <td>...</td>\n",
       "      <td>...</td>\n",
       "      <td>...</td>\n",
       "      <td>...</td>\n",
       "      <td>...</td>\n",
       "      <td>...</td>\n",
       "      <td>...</td>\n",
       "      <td>...</td>\n",
       "      <td>...</td>\n",
       "      <td>...</td>\n",
       "      <td>...</td>\n",
       "    </tr>\n",
       "    <tr>\n",
       "      <th>3895</th>\n",
       "      <td>3896</td>\n",
       "      <td>40</td>\n",
       "      <td>Female</td>\n",
       "      <td>Hoodie</td>\n",
       "      <td>Clothing</td>\n",
       "      <td>28</td>\n",
       "      <td>Virginia</td>\n",
       "      <td>L</td>\n",
       "      <td>Turquoise</td>\n",
       "      <td>Summer</td>\n",
       "      <td>4.2</td>\n",
       "      <td>No</td>\n",
       "      <td>Cash</td>\n",
       "      <td>2-Day Shipping</td>\n",
       "      <td>No</td>\n",
       "      <td>No</td>\n",
       "      <td>32</td>\n",
       "      <td>Venmo</td>\n",
       "      <td>Weekly</td>\n",
       "    </tr>\n",
       "    <tr>\n",
       "      <th>3896</th>\n",
       "      <td>3897</td>\n",
       "      <td>52</td>\n",
       "      <td>Female</td>\n",
       "      <td>Backpack</td>\n",
       "      <td>Accessories</td>\n",
       "      <td>49</td>\n",
       "      <td>Iowa</td>\n",
       "      <td>L</td>\n",
       "      <td>White</td>\n",
       "      <td>Spring</td>\n",
       "      <td>4.5</td>\n",
       "      <td>No</td>\n",
       "      <td>PayPal</td>\n",
       "      <td>Store Pickup</td>\n",
       "      <td>No</td>\n",
       "      <td>No</td>\n",
       "      <td>41</td>\n",
       "      <td>Bank Transfer</td>\n",
       "      <td>Bi-Weekly</td>\n",
       "    </tr>\n",
       "    <tr>\n",
       "      <th>3897</th>\n",
       "      <td>3898</td>\n",
       "      <td>46</td>\n",
       "      <td>Female</td>\n",
       "      <td>Belt</td>\n",
       "      <td>Accessories</td>\n",
       "      <td>33</td>\n",
       "      <td>New Jersey</td>\n",
       "      <td>L</td>\n",
       "      <td>Green</td>\n",
       "      <td>Spring</td>\n",
       "      <td>2.9</td>\n",
       "      <td>No</td>\n",
       "      <td>Credit Card</td>\n",
       "      <td>Standard</td>\n",
       "      <td>No</td>\n",
       "      <td>No</td>\n",
       "      <td>24</td>\n",
       "      <td>Venmo</td>\n",
       "      <td>Quarterly</td>\n",
       "    </tr>\n",
       "    <tr>\n",
       "      <th>3898</th>\n",
       "      <td>3899</td>\n",
       "      <td>44</td>\n",
       "      <td>Female</td>\n",
       "      <td>Shoes</td>\n",
       "      <td>Footwear</td>\n",
       "      <td>77</td>\n",
       "      <td>Minnesota</td>\n",
       "      <td>S</td>\n",
       "      <td>Brown</td>\n",
       "      <td>Summer</td>\n",
       "      <td>3.8</td>\n",
       "      <td>No</td>\n",
       "      <td>PayPal</td>\n",
       "      <td>Express</td>\n",
       "      <td>No</td>\n",
       "      <td>No</td>\n",
       "      <td>24</td>\n",
       "      <td>Venmo</td>\n",
       "      <td>Weekly</td>\n",
       "    </tr>\n",
       "    <tr>\n",
       "      <th>3899</th>\n",
       "      <td>3900</td>\n",
       "      <td>52</td>\n",
       "      <td>Female</td>\n",
       "      <td>Handbag</td>\n",
       "      <td>Accessories</td>\n",
       "      <td>81</td>\n",
       "      <td>California</td>\n",
       "      <td>M</td>\n",
       "      <td>Beige</td>\n",
       "      <td>Spring</td>\n",
       "      <td>3.1</td>\n",
       "      <td>No</td>\n",
       "      <td>Bank Transfer</td>\n",
       "      <td>Store Pickup</td>\n",
       "      <td>No</td>\n",
       "      <td>No</td>\n",
       "      <td>33</td>\n",
       "      <td>Venmo</td>\n",
       "      <td>Quarterly</td>\n",
       "    </tr>\n",
       "  </tbody>\n",
       "</table>\n",
       "<p>3900 rows × 19 columns</p>\n",
       "</div>"
      ],
      "text/plain": [
       "      Customer ID  Age  Gender Item Purchased     Category  \\\n",
       "0               1   55    Male         Blouse     Clothing   \n",
       "1               2   19    Male        Sweater     Clothing   \n",
       "2               3   50    Male          Jeans     Clothing   \n",
       "3               4   21    Male        Sandals     Footwear   \n",
       "4               5   45    Male         Blouse     Clothing   \n",
       "...           ...  ...     ...            ...          ...   \n",
       "3895         3896   40  Female         Hoodie     Clothing   \n",
       "3896         3897   52  Female       Backpack  Accessories   \n",
       "3897         3898   46  Female           Belt  Accessories   \n",
       "3898         3899   44  Female          Shoes     Footwear   \n",
       "3899         3900   52  Female        Handbag  Accessories   \n",
       "\n",
       "      Purchase Amount (USD)       Location Size      Color  Season  \\\n",
       "0                        53       Kentucky    L       Gray  Winter   \n",
       "1                        64          Maine    L     Maroon  Winter   \n",
       "2                        73  Massachusetts    S     Maroon  Spring   \n",
       "3                        90   Rhode Island    M     Maroon  Spring   \n",
       "4                        49         Oregon    M  Turquoise  Spring   \n",
       "...                     ...            ...  ...        ...     ...   \n",
       "3895                     28       Virginia    L  Turquoise  Summer   \n",
       "3896                     49           Iowa    L      White  Spring   \n",
       "3897                     33     New Jersey    L      Green  Spring   \n",
       "3898                     77      Minnesota    S      Brown  Summer   \n",
       "3899                     81     California    M      Beige  Spring   \n",
       "\n",
       "      Review Rating Subscription Status Payment Method   Shipping Type  \\\n",
       "0               3.1                 Yes    Credit Card         Express   \n",
       "1               3.1                 Yes  Bank Transfer         Express   \n",
       "2               3.1                 Yes           Cash   Free Shipping   \n",
       "3               3.5                 Yes         PayPal    Next Day Air   \n",
       "4               2.7                 Yes           Cash   Free Shipping   \n",
       "...             ...                 ...            ...             ...   \n",
       "3895            4.2                  No           Cash  2-Day Shipping   \n",
       "3896            4.5                  No         PayPal    Store Pickup   \n",
       "3897            2.9                  No    Credit Card        Standard   \n",
       "3898            3.8                  No         PayPal         Express   \n",
       "3899            3.1                  No  Bank Transfer    Store Pickup   \n",
       "\n",
       "     Discount Applied Promo Code Used  Previous Purchases  \\\n",
       "0                 Yes             Yes                  14   \n",
       "1                 Yes             Yes                   2   \n",
       "2                 Yes             Yes                  23   \n",
       "3                 Yes             Yes                  49   \n",
       "4                 Yes             Yes                  31   \n",
       "...               ...             ...                 ...   \n",
       "3895               No              No                  32   \n",
       "3896               No              No                  41   \n",
       "3897               No              No                  24   \n",
       "3898               No              No                  24   \n",
       "3899               No              No                  33   \n",
       "\n",
       "     Preferred Payment Method Frequency of Purchases  \n",
       "0                       Venmo            Fortnightly  \n",
       "1                        Cash            Fortnightly  \n",
       "2                 Credit Card                 Weekly  \n",
       "3                      PayPal                 Weekly  \n",
       "4                      PayPal               Annually  \n",
       "...                       ...                    ...  \n",
       "3895                    Venmo                 Weekly  \n",
       "3896            Bank Transfer              Bi-Weekly  \n",
       "3897                    Venmo              Quarterly  \n",
       "3898                    Venmo                 Weekly  \n",
       "3899                    Venmo              Quarterly  \n",
       "\n",
       "[3900 rows x 19 columns]"
      ]
     },
     "execution_count": 3,
     "metadata": {},
     "output_type": "execute_result"
    }
   ],
   "source": [
    "df"
   ]
  },
  {
   "cell_type": "code",
   "execution_count": 4,
   "id": "1ec69045",
   "metadata": {},
   "outputs": [
    {
     "name": "stdout",
     "output_type": "stream",
     "text": [
      "Gender\n",
      "['Male' 'Female']\n",
      "Item Purchased\n",
      "['Blouse' 'Sweater' 'Jeans' 'Sandals' 'Sneakers' 'Shirt' 'Shorts' 'Coat'\n",
      " 'Handbag' 'Shoes' 'Dress' 'Skirt' 'Sunglasses' 'Pants' 'Jacket' 'Hoodie'\n",
      " 'Jewelry' 'T-shirt' 'Scarf' 'Hat' 'Socks' 'Backpack' 'Belt' 'Boots'\n",
      " 'Gloves']\n",
      "Category\n",
      "['Clothing' 'Footwear' 'Outerwear' 'Accessories']\n",
      "Location\n",
      "['Kentucky' 'Maine' 'Massachusetts' 'Rhode Island' 'Oregon' 'Wyoming'\n",
      " 'Montana' 'Louisiana' 'West Virginia' 'Missouri' 'Arkansas' 'Hawaii'\n",
      " 'Delaware' 'New Hampshire' 'New York' 'Alabama' 'Mississippi'\n",
      " 'North Carolina' 'California' 'Oklahoma' 'Florida' 'Texas' 'Nevada'\n",
      " 'Kansas' 'Colorado' 'North Dakota' 'Illinois' 'Indiana' 'Arizona'\n",
      " 'Alaska' 'Tennessee' 'Ohio' 'New Jersey' 'Maryland' 'Vermont'\n",
      " 'New Mexico' 'South Carolina' 'Idaho' 'Pennsylvania' 'Connecticut' 'Utah'\n",
      " 'Virginia' 'Georgia' 'Nebraska' 'Iowa' 'South Dakota' 'Minnesota'\n",
      " 'Washington' 'Wisconsin' 'Michigan']\n",
      "Size\n",
      "['L' 'S' 'M' 'XL']\n",
      "Color\n",
      "['Gray' 'Maroon' 'Turquoise' 'White' 'Charcoal' 'Silver' 'Pink' 'Purple'\n",
      " 'Olive' 'Gold' 'Violet' 'Teal' 'Lavender' 'Black' 'Green' 'Peach' 'Red'\n",
      " 'Cyan' 'Brown' 'Beige' 'Orange' 'Indigo' 'Yellow' 'Magenta' 'Blue']\n",
      "Season\n",
      "['Winter' 'Spring' 'Summer' 'Fall']\n",
      "Subscription Status\n",
      "['Yes' 'No']\n",
      "Payment Method\n",
      "['Credit Card' 'Bank Transfer' 'Cash' 'PayPal' 'Venmo' 'Debit Card']\n",
      "Shipping Type\n",
      "['Express' 'Free Shipping' 'Next Day Air' 'Standard' '2-Day Shipping'\n",
      " 'Store Pickup']\n",
      "Discount Applied\n",
      "['Yes' 'No']\n",
      "Promo Code Used\n",
      "['Yes' 'No']\n",
      "Preferred Payment Method\n",
      "['Venmo' 'Cash' 'Credit Card' 'PayPal' 'Bank Transfer' 'Debit Card']\n",
      "Frequency of Purchases\n",
      "['Fortnightly' 'Weekly' 'Annually' 'Quarterly' 'Bi-Weekly' 'Monthly'\n",
      " 'Every 3 Months']\n"
     ]
    }
   ],
   "source": [
    "for col in df.describe(include='object'):\n",
    "    print(col)\n",
    "    print(df[col].unique())"
   ]
  },
  {
   "cell_type": "code",
   "execution_count": 5,
   "id": "6fd63237",
   "metadata": {},
   "outputs": [
    {
     "data": {
      "text/plain": [
       "Customer ID                 0\n",
       "Age                         0\n",
       "Gender                      0\n",
       "Item Purchased              0\n",
       "Category                    0\n",
       "Purchase Amount (USD)       0\n",
       "Location                    0\n",
       "Size                        0\n",
       "Color                       0\n",
       "Season                      0\n",
       "Review Rating               0\n",
       "Subscription Status         0\n",
       "Payment Method              0\n",
       "Shipping Type               0\n",
       "Discount Applied            0\n",
       "Promo Code Used             0\n",
       "Previous Purchases          0\n",
       "Preferred Payment Method    0\n",
       "Frequency of Purchases      0\n",
       "dtype: int64"
      ]
     },
     "execution_count": 5,
     "metadata": {},
     "output_type": "execute_result"
    }
   ],
   "source": [
    "df.isnull().sum()"
   ]
  },
  {
   "cell_type": "code",
   "execution_count": 6,
   "id": "c4c8a343",
   "metadata": {},
   "outputs": [
    {
     "data": {
      "text/html": [
       "<div>\n",
       "<style scoped>\n",
       "    .dataframe tbody tr th:only-of-type {\n",
       "        vertical-align: middle;\n",
       "    }\n",
       "\n",
       "    .dataframe tbody tr th {\n",
       "        vertical-align: top;\n",
       "    }\n",
       "\n",
       "    .dataframe thead th {\n",
       "        text-align: right;\n",
       "    }\n",
       "</style>\n",
       "<table border=\"1\" class=\"dataframe\">\n",
       "  <thead>\n",
       "    <tr style=\"text-align: right;\">\n",
       "      <th></th>\n",
       "      <th>Customer ID</th>\n",
       "      <th>Age</th>\n",
       "      <th>Purchase Amount (USD)</th>\n",
       "      <th>Review Rating</th>\n",
       "      <th>Previous Purchases</th>\n",
       "    </tr>\n",
       "  </thead>\n",
       "  <tbody>\n",
       "    <tr>\n",
       "      <th>count</th>\n",
       "      <td>3900.000000</td>\n",
       "      <td>3900.000000</td>\n",
       "      <td>3900.000000</td>\n",
       "      <td>3900.000000</td>\n",
       "      <td>3900.000000</td>\n",
       "    </tr>\n",
       "    <tr>\n",
       "      <th>mean</th>\n",
       "      <td>1950.500000</td>\n",
       "      <td>44.068462</td>\n",
       "      <td>59.764359</td>\n",
       "      <td>3.749949</td>\n",
       "      <td>25.351538</td>\n",
       "    </tr>\n",
       "    <tr>\n",
       "      <th>std</th>\n",
       "      <td>1125.977353</td>\n",
       "      <td>15.207589</td>\n",
       "      <td>23.685392</td>\n",
       "      <td>0.716223</td>\n",
       "      <td>14.447125</td>\n",
       "    </tr>\n",
       "    <tr>\n",
       "      <th>min</th>\n",
       "      <td>1.000000</td>\n",
       "      <td>18.000000</td>\n",
       "      <td>20.000000</td>\n",
       "      <td>2.500000</td>\n",
       "      <td>1.000000</td>\n",
       "    </tr>\n",
       "    <tr>\n",
       "      <th>25%</th>\n",
       "      <td>975.750000</td>\n",
       "      <td>31.000000</td>\n",
       "      <td>39.000000</td>\n",
       "      <td>3.100000</td>\n",
       "      <td>13.000000</td>\n",
       "    </tr>\n",
       "    <tr>\n",
       "      <th>50%</th>\n",
       "      <td>1950.500000</td>\n",
       "      <td>44.000000</td>\n",
       "      <td>60.000000</td>\n",
       "      <td>3.700000</td>\n",
       "      <td>25.000000</td>\n",
       "    </tr>\n",
       "    <tr>\n",
       "      <th>75%</th>\n",
       "      <td>2925.250000</td>\n",
       "      <td>57.000000</td>\n",
       "      <td>81.000000</td>\n",
       "      <td>4.400000</td>\n",
       "      <td>38.000000</td>\n",
       "    </tr>\n",
       "    <tr>\n",
       "      <th>max</th>\n",
       "      <td>3900.000000</td>\n",
       "      <td>70.000000</td>\n",
       "      <td>100.000000</td>\n",
       "      <td>5.000000</td>\n",
       "      <td>50.000000</td>\n",
       "    </tr>\n",
       "  </tbody>\n",
       "</table>\n",
       "</div>"
      ],
      "text/plain": [
       "       Customer ID          Age  Purchase Amount (USD)  Review Rating  \\\n",
       "count  3900.000000  3900.000000            3900.000000    3900.000000   \n",
       "mean   1950.500000    44.068462              59.764359       3.749949   \n",
       "std    1125.977353    15.207589              23.685392       0.716223   \n",
       "min       1.000000    18.000000              20.000000       2.500000   \n",
       "25%     975.750000    31.000000              39.000000       3.100000   \n",
       "50%    1950.500000    44.000000              60.000000       3.700000   \n",
       "75%    2925.250000    57.000000              81.000000       4.400000   \n",
       "max    3900.000000    70.000000             100.000000       5.000000   \n",
       "\n",
       "       Previous Purchases  \n",
       "count         3900.000000  \n",
       "mean            25.351538  \n",
       "std             14.447125  \n",
       "min              1.000000  \n",
       "25%             13.000000  \n",
       "50%             25.000000  \n",
       "75%             38.000000  \n",
       "max             50.000000  "
      ]
     },
     "execution_count": 6,
     "metadata": {},
     "output_type": "execute_result"
    }
   ],
   "source": [
    "df.describe()"
   ]
  },
  {
   "cell_type": "code",
   "execution_count": 7,
   "id": "5e5dc0a0",
   "metadata": {},
   "outputs": [
    {
     "name": "stdout",
     "output_type": "stream",
     "text": [
      "Gender\n",
      "Male      2652\n",
      "Female    1248\n",
      "Name: count, dtype: int64\n"
     ]
    },
    {
     "data": {
      "image/png": "[encoded data removed]",
      "text/plain": [
       "<Figure size 640x480 with 1 Axes>"
      ]
     },
     "metadata": {},
     "output_type": "display_data"
    }
   ],
   "source": [
    "Gender=df['Gender'].value_counts()\n",
    "print(Gender)\n",
    "\n",
    "ax = sns.barplot(x=Gender.index, y=Gender.values)\n",
    "for bars in ax.containers:\n",
    "    ax.bar_label(bars)"
   ]
  },
  {
   "cell_type": "code",
   "execution_count": 8,
   "id": "d1577832",
   "metadata": {},
   "outputs": [
    {
     "data": {
      "image/png": "[encoded data removed]",
      "text/plain": [
       "<Figure size 1500x500 with 1 Axes>"
      ]
     },
     "metadata": {},
     "output_type": "display_data"
    }
   ],
   "source": [
    "Item = df['Item Purchased'].value_counts()\n",
    "plt.figure(figsize=(15,5))\n",
    "ax = sns.barplot(x=Item.index, y=Item.values)\n",
    "for p in ax.patches:\n",
    "    ax.annotate(f'{p.get_height()}', (p.get_x() + p.get_width()/2., p.get_height()),\n",
    "               ha='center', va='center', fontsize=12, color='black', xytext=(0,5),\n",
    "               textcoords='offset points')"
   ]
  },
  {
   "cell_type": "raw",
   "id": "3e0f6364",
   "metadata": {},
   "source": [
    "#The maximum item purchased is Blouse and the second is jewelry"
   ]
  },
  {
   "cell_type": "code",
   "execution_count": 9,
   "id": "1330454b",
   "metadata": {
    "scrolled": false
   },
   "outputs": [
    {
     "data": {
      "image/png": "[encoded data removed]",
      "text/plain": [
       "<Figure size 640x480 with 1 Axes>"
      ]
     },
     "metadata": {},
     "output_type": "display_data"
    }
   ],
   "source": [
    "Category= df['Category'].value_counts()\n",
    "\n",
    "\n",
    "ax2 = sns.barplot(x=Category.index, y=Category.values)\n",
    "for p in ax2.patches:\n",
    "    ax2.annotate(f'{p.get_height()}', (p.get_x() + p.get_width()/2., p.get_height()),\n",
    "               ha='center', va='center', fontsize=12, color='black', xytext=(0,5),\n",
    "               textcoords='offset points')"
   ]
  },
  {
   "cell_type": "markdown",
   "id": "47c31f6b",
   "metadata": {},
   "source": [
    "in category clothing consist of maximum share"
   ]
  },
  {
   "cell_type": "code",
   "execution_count": 10,
   "id": "387ac949",
   "metadata": {},
   "outputs": [
    {
     "data": {
      "image/png": "[encoded data removed]",
      "text/plain": [
       "<Figure size 640x480 with 1 Axes>"
      ]
     },
     "metadata": {},
     "output_type": "display_data"
    }
   ],
   "source": [
    "Purchase_Amount = df['Location'].value_counts().head(5)\n",
    "\n",
    "ax2 = sns.barplot(x=Purchase_Amount.index, y=Purchase_Amount.values)\n",
    "for p in ax2.patches:\n",
    "    ax2.annotate(f'{p.get_height()}', (p.get_x() + p.get_width()/2., p.get_height()),\n",
    "               ha='center', va='center', fontsize=12, color='black', xytext=(0,5),\n",
    "               textcoords='offset points')"
   ]
  },
  {
   "cell_type": "code",
   "execution_count": 11,
   "id": "b4fd6025",
   "metadata": {},
   "outputs": [
    {
     "data": {
      "text/plain": [
       "Index(['Customer ID', 'Age', 'Gender', 'Item Purchased', 'Category',\n",
       "       'Purchase Amount (USD)', 'Location', 'Size', 'Color', 'Season',\n",
       "       'Review Rating', 'Subscription Status', 'Payment Method',\n",
       "       'Shipping Type', 'Discount Applied', 'Promo Code Used',\n",
       "       'Previous Purchases', 'Preferred Payment Method',\n",
       "       'Frequency of Purchases'],\n",
       "      dtype='object')"
      ]
     },
     "execution_count": 11,
     "metadata": {},
     "output_type": "execute_result"
    }
   ],
   "source": [
    "df.columns"
   ]
  },
  {
   "cell_type": "code",
   "execution_count": 12,
   "id": "da1f0464",
   "metadata": {},
   "outputs": [
    {
     "data": {
      "image/png": "[encoded data removed]",
      "text/plain": [
       "<Figure size 640x480 with 1 Axes>"
      ]
     },
     "metadata": {},
     "output_type": "display_data"
    }
   ],
   "source": [
    "Size = df['Size'].value_counts()\n",
    "\n",
    "ax2 = sns.barplot(x=Size.index, y=Size.values)\n",
    "for p in ax2.patches:\n",
    "    ax2.annotate(f'{p.get_height()}', (p.get_x() + p.get_width()/2., p.get_height()),\n",
    "               ha='center', va='center', fontsize=12, color='black', xytext=(0,5),\n",
    "               textcoords='offset points')"
   ]
  },
  {
   "cell_type": "markdown",
   "id": "ca40226c",
   "metadata": {},
   "source": [
    "People or the Individual generally refer's M size in the size"
   ]
  },
  {
   "cell_type": "code",
   "execution_count": 13,
   "id": "b8181a33",
   "metadata": {},
   "outputs": [
    {
     "data": {
      "image/png": "[encoded data removed]",
      "text/plain": [
       "<Figure size 640x480 with 1 Axes>"
      ]
     },
     "metadata": {},
     "output_type": "display_data"
    }
   ],
   "source": [
    "Season = df['Season'].value_counts()\n",
    "\n",
    "ax = sns.barplot(x=Season.index, y=Season.values)\n",
    "for p in ax.patches:\n",
    "    ax.annotate(f'{p.get_height()}', (p.get_x() + p.get_width()/2., p.get_height()),\n",
    "                                     ha='center', va='center', fontsize=12, color='black', xytext=(0,5), textcoords='offset points')"
   ]
  },
  {
   "cell_type": "markdown",
   "id": "d1506a14",
   "metadata": {},
   "source": [
    "People generally purchases in spring"
   ]
  },
  {
   "cell_type": "code",
   "execution_count": 14,
   "id": "b2040639",
   "metadata": {},
   "outputs": [
    {
     "data": {
      "image/png": "[encoded data removed]",
      "text/plain": [
       "<Figure size 640x480 with 1 Axes>"
      ]
     },
     "metadata": {},
     "output_type": "display_data"
    }
   ],
   "source": [
    "Subscription_Status= df['Subscription Status'].value_counts()\n",
    "\n",
    "ax = sns.barplot(x=Subscription_Status.index, y=Subscription_Status.values)\n",
    "for p in ax.patches:\n",
    "    ax.annotate(f'{p.get_height()}', (p.get_x() + p.get_width()/2., p.get_height()),\n",
    "                                     ha='center', va='center', fontsize=12, color='black', xytext=(0,5), textcoords='offset points')"
   ]
  },
  {
   "cell_type": "markdown",
   "id": "e59a3a83",
   "metadata": {},
   "source": [
    "around 2847 people have  not subscribe which is double of the subcription status those who have done"
   ]
  },
  {
   "cell_type": "code",
   "execution_count": 15,
   "id": "867ad1a0",
   "metadata": {},
   "outputs": [
    {
     "data": {
      "image/png": "[encoded data removed]",
      "text/plain": [
       "<Figure size 1500x500 with 1 Axes>"
      ]
     },
     "metadata": {},
     "output_type": "display_data"
    }
   ],
   "source": [
    "plt.figure(figsize=(15,5))\n",
    "Shipping_Type= df['Shipping Type'].value_counts()\n",
    "\n",
    "ax = sns.barplot(x=Shipping_Type.index, y=Shipping_Type.values)\n",
    "for p in ax.patches:\n",
    "    ax.annotate(f'{p.get_height()}', (p.get_x() + p.get_width()/2., p.get_height()),\n",
    "                                     ha='center', va='center', fontsize=12, color='black', xytext=(0,5), textcoords='offset points')\n"
   ]
  },
  {
   "cell_type": "markdown",
   "id": "f1d6274f",
   "metadata": {},
   "source": [
    "Most of the shipping is generally  of free shipping"
   ]
  },
  {
   "cell_type": "markdown",
   "id": "4de0e8c7",
   "metadata": {},
   "source": [
    "# What is the average age of customers in datasets"
   ]
  },
  {
   "cell_type": "code",
   "execution_count": 16,
   "id": "e587538c",
   "metadata": {},
   "outputs": [
    {
     "data": {
      "text/plain": [
       "Index(['Customer ID', 'Age', 'Gender', 'Item Purchased', 'Category',\n",
       "       'Purchase Amount (USD)', 'Location', 'Size', 'Color', 'Season',\n",
       "       'Review Rating', 'Subscription Status', 'Payment Method',\n",
       "       'Shipping Type', 'Discount Applied', 'Promo Code Used',\n",
       "       'Previous Purchases', 'Preferred Payment Method',\n",
       "       'Frequency of Purchases'],\n",
       "      dtype='object')"
      ]
     },
     "execution_count": 16,
     "metadata": {},
     "output_type": "execute_result"
    }
   ],
   "source": [
    "df.columns"
   ]
  },
  {
   "cell_type": "code",
   "execution_count": 17,
   "id": "f4f034a8",
   "metadata": {},
   "outputs": [
    {
     "data": {
      "text/plain": [
       "44.06846153846154"
      ]
     },
     "execution_count": 17,
     "metadata": {},
     "output_type": "execute_result"
    }
   ],
   "source": [
    "Avg_age = df['Age'].mean()\n",
    "\n",
    "Avg_age"
   ]
  },
  {
   "cell_type": "markdown",
   "id": "d2920477",
   "metadata": {},
   "source": [
    "# What is the most common item purchased"
   ]
  },
  {
   "cell_type": "code",
   "execution_count": 18,
   "id": "2afba4b6",
   "metadata": {},
   "outputs": [
    {
     "data": {
      "text/plain": [
       "0     Blouse\n",
       "1    Jewelry\n",
       "2      Pants\n",
       "Name: Item Purchased, dtype: object"
      ]
     },
     "execution_count": 18,
     "metadata": {},
     "output_type": "execute_result"
    }
   ],
   "source": [
    "Common_purchased = df['Item Purchased'].mode()\n",
    "Common_purchased"
   ]
  },
  {
   "cell_type": "markdown",
   "id": "4347cf6b",
   "metadata": {},
   "source": [
    "# what is the total purchased amount of each category\n"
   ]
  },
  {
   "cell_type": "code",
   "execution_count": 19,
   "id": "4377b583",
   "metadata": {},
   "outputs": [
    {
     "name": "stdout",
     "output_type": "stream",
     "text": [
      "Category\n",
      "Accessories     74200\n",
      "Clothing       104264\n",
      "Footwear        36093\n",
      "Outerwear       18524\n",
      "Name: Purchase Amount (USD), dtype: int64\n"
     ]
    }
   ],
   "source": [
    "\n",
    "Puchased_by_category = df.groupby('Category')['Purchase Amount (USD)'].sum()\n",
    "print(Puchased_by_category) "
   ]
  },
  {
   "cell_type": "markdown",
   "id": "8384d59c",
   "metadata": {},
   "source": [
    "# What is average rating of male and female customer"
   ]
  },
  {
   "cell_type": "code",
   "execution_count": 20,
   "id": "965841f5",
   "metadata": {},
   "outputs": [
    {
     "name": "stdout",
     "output_type": "stream",
     "text": [
      "The average rating of male: 3.7539592760180995\n",
      "The average rating od female: 3.741426282051282\n"
     ]
    }
   ],
   "source": [
    "average_rating_male = df[df['Gender'] == 'Male']['Review Rating'].mean()\n",
    "print('The average rating of male:',average_rating_male)\n",
    "\n",
    "average_rating_of_female = df[df['Gender'] == 'Female']['Review Rating'].mean()\n",
    "print('The average rating od female:', average_rating_of_female)"
   ]
  },
  {
   "cell_type": "markdown",
   "id": "06f7313f",
   "metadata": {},
   "source": [
    "# what is total purchase amount for each size of colothing "
   ]
  },
  {
   "cell_type": "code",
   "execution_count": 21,
   "id": "0dbadc34",
   "metadata": {},
   "outputs": [
    {
     "name": "stdout",
     "output_type": "stream",
     "text": [
      "Size\n",
      "L     27864\n",
      "M     47041\n",
      "S     17416\n",
      "XL    11943\n",
      "Name: Purchase Amount (USD), dtype: int64\n"
     ]
    }
   ],
   "source": [
    "puchase_amount = df[df['Category'] == 'Clothing'].groupby('Size')['Purchase Amount (USD)'].sum()\n",
    "print(puchase_amount)"
   ]
  },
  {
   "cell_type": "markdown",
   "id": "7422d494",
   "metadata": {},
   "source": [
    "# what is most common payment methid by customers"
   ]
  },
  {
   "cell_type": "code",
   "execution_count": 22,
   "id": "42ceabd1",
   "metadata": {},
   "outputs": [
    {
     "data": {
      "text/plain": [
       "Index(['Customer ID', 'Age', 'Gender', 'Item Purchased', 'Category',\n",
       "       'Purchase Amount (USD)', 'Location', 'Size', 'Color', 'Season',\n",
       "       'Review Rating', 'Subscription Status', 'Payment Method',\n",
       "       'Shipping Type', 'Discount Applied', 'Promo Code Used',\n",
       "       'Previous Purchases', 'Preferred Payment Method',\n",
       "       'Frequency of Purchases'],\n",
       "      dtype='object')"
      ]
     },
     "execution_count": 22,
     "metadata": {},
     "output_type": "execute_result"
    }
   ],
   "source": [
    "df.columns"
   ]
  },
  {
   "cell_type": "code",
   "execution_count": 25,
   "id": "e0e7e64d",
   "metadata": {},
   "outputs": [
    {
     "name": "stdout",
     "output_type": "stream",
     "text": [
      "0    Credit Card\n",
      "Name: Payment Method, dtype: object\n"
     ]
    }
   ],
   "source": [
    "common = df['Payment Method'].mode()\n",
    "print(common)"
   ]
  },
  {
   "cell_type": "markdown",
   "id": "41a37ae0",
   "metadata": {},
   "source": [
    "# what is median purchase amount"
   ]
  },
  {
   "cell_type": "code",
   "execution_count": 28,
   "id": "b4cbf15f",
   "metadata": {},
   "outputs": [
    {
     "name": "stdout",
     "output_type": "stream",
     "text": [
      "60.0\n"
     ]
    }
   ],
   "source": [
    "Purchase_Amount = df['Purchase Amount (USD)'].median()\n",
    "print(Purchase_Amount)"
   ]
  },
  {
   "cell_type": "markdown",
   "id": "4919894d",
   "metadata": {},
   "source": [
    "# how many customers have opted for subscription"
   ]
  },
  {
   "cell_type": "code",
   "execution_count": 37,
   "id": "4d13bcc3",
   "metadata": {},
   "outputs": [
    {
     "name": "stdout",
     "output_type": "stream",
     "text": [
      "Subscription Status\n",
      "No     2847\n",
      "Yes    1053\n",
      "Name: count, dtype: int64\n"
     ]
    }
   ],
   "source": [
    "subcription = df['Subscription Status'].value_counts()\n",
    "print(subcription)"
   ]
  },
  {
   "cell_type": "markdown",
   "id": "769a0d4a",
   "metadata": {},
   "source": [
    "# what is average puchase amount for customer with subcription status 'YES' or 'NO'"
   ]
  },
  {
   "cell_type": "code",
   "execution_count": 40,
   "id": "ccc15438",
   "metadata": {},
   "outputs": [
    {
     "name": "stdout",
     "output_type": "stream",
     "text": [
      "59.49192782526116\n"
     ]
    }
   ],
   "source": [
    "status = df[df['Subscription Status'] == 'Yes']['Purchase Amount (USD)'].mean()\n",
    "print(status)"
   ]
  },
  {
   "cell_type": "markdown",
   "id": "412aa687",
   "metadata": {},
   "source": [
    "# what is most common method of purchase"
   ]
  },
  {
   "cell_type": "code",
   "execution_count": 41,
   "id": "18d210b5",
   "metadata": {},
   "outputs": [
    {
     "name": "stdout",
     "output_type": "stream",
     "text": [
      "0    Spring\n",
      "Name: Season, dtype: object\n"
     ]
    }
   ],
   "source": [
    "Season_purchase = df['Season'].mode()\n",
    "print(Season_purchase)"
   ]
  },
  {
   "cell_type": "markdown",
   "id": "7f707ac4",
   "metadata": {},
   "source": [
    "# what is purchase amount by each gender"
   ]
  },
  {
   "cell_type": "code",
   "execution_count": 46,
   "id": "1fc3dad8",
   "metadata": {},
   "outputs": [
    {
     "name": "stdout",
     "output_type": "stream",
     "text": [
      "The sum of purchase amount by male: 157890\n"
     ]
    }
   ],
   "source": [
    "amount = df[df['Gender'] == 'Male']['Purchase Amount (USD)'].sum()\n",
    "print('The sum of purchase amount by male:', amount)\n"
   ]
  },
  {
   "cell_type": "code",
   "execution_count": 48,
   "id": "62362d37",
   "metadata": {},
   "outputs": [
    {
     "name": "stdout",
     "output_type": "stream",
     "text": [
      "Gender\n",
      "['Male' 'Female']\n",
      "Item Purchased\n",
      "['Blouse' 'Sweater' 'Jeans' 'Sandals' 'Sneakers' 'Shirt' 'Shorts' 'Coat'\n",
      " 'Handbag' 'Shoes' 'Dress' 'Skirt' 'Sunglasses' 'Pants' 'Jacket' 'Hoodie'\n",
      " 'Jewelry' 'T-shirt' 'Scarf' 'Hat' 'Socks' 'Backpack' 'Belt' 'Boots'\n",
      " 'Gloves']\n",
      "Category\n",
      "['Clothing' 'Footwear' 'Outerwear' 'Accessories']\n",
      "Location\n",
      "['Kentucky' 'Maine' 'Massachusetts' 'Rhode Island' 'Oregon' 'Wyoming'\n",
      " 'Montana' 'Louisiana' 'West Virginia' 'Missouri' 'Arkansas' 'Hawaii'\n",
      " 'Delaware' 'New Hampshire' 'New York' 'Alabama' 'Mississippi'\n",
      " 'North Carolina' 'California' 'Oklahoma' 'Florida' 'Texas' 'Nevada'\n",
      " 'Kansas' 'Colorado' 'North Dakota' 'Illinois' 'Indiana' 'Arizona'\n",
      " 'Alaska' 'Tennessee' 'Ohio' 'New Jersey' 'Maryland' 'Vermont'\n",
      " 'New Mexico' 'South Carolina' 'Idaho' 'Pennsylvania' 'Connecticut' 'Utah'\n",
      " 'Virginia' 'Georgia' 'Nebraska' 'Iowa' 'South Dakota' 'Minnesota'\n",
      " 'Washington' 'Wisconsin' 'Michigan']\n",
      "Size\n",
      "['L' 'S' 'M' 'XL']\n",
      "Color\n",
      "['Gray' 'Maroon' 'Turquoise' 'White' 'Charcoal' 'Silver' 'Pink' 'Purple'\n",
      " 'Olive' 'Gold' 'Violet' 'Teal' 'Lavender' 'Black' 'Green' 'Peach' 'Red'\n",
      " 'Cyan' 'Brown' 'Beige' 'Orange' 'Indigo' 'Yellow' 'Magenta' 'Blue']\n",
      "Season\n",
      "['Winter' 'Spring' 'Summer' 'Fall']\n",
      "Subscription Status\n",
      "['Yes' 'No']\n",
      "Payment Method\n",
      "['Credit Card' 'Bank Transfer' 'Cash' 'PayPal' 'Venmo' 'Debit Card']\n",
      "Shipping Type\n",
      "['Express' 'Free Shipping' 'Next Day Air' 'Standard' '2-Day Shipping'\n",
      " 'Store Pickup']\n",
      "Discount Applied\n",
      "['Yes' 'No']\n",
      "Promo Code Used\n",
      "['Yes' 'No']\n",
      "Preferred Payment Method\n",
      "['Venmo' 'Cash' 'Credit Card' 'PayPal' 'Bank Transfer' 'Debit Card']\n",
      "Frequency of Purchases\n",
      "['Fortnightly' 'Weekly' 'Annually' 'Quarterly' 'Bi-Weekly' 'Monthly'\n",
      " 'Every 3 Months']\n"
     ]
    }
   ],
   "source": [
    "for col in df.describe(include='object'):\n",
    "    print(col)\n",
    "    print(df[col].unique())"
   ]
  },
  {
   "cell_type": "code",
   "execution_count": 50,
   "id": "1a132f85",
   "metadata": {},
   "outputs": [
    {
     "data": {
      "text/plain": [
       "43.973821989528794"
      ]
     },
     "execution_count": 50,
     "metadata": {},
     "output_type": "execute_result"
    }
   ],
   "source": [
    "ave_age = df[df['Season'] == 'Summer']['Age'].mean()\n",
    "ave_age"
   ]
  },
  {
   "cell_type": "markdown",
   "id": "c946069d",
   "metadata": {},
   "source": [
    "# How many customer use promo code"
   ]
  },
  {
   "cell_type": "code",
   "execution_count": 52,
   "id": "9fc60e11",
   "metadata": {},
   "outputs": [
    {
     "name": "stdout",
     "output_type": "stream",
     "text": [
      "1677\n"
     ]
    }
   ],
   "source": [
    "promo = df[df['Promo Code Used'] == 'Yes']['Customer ID'].count()\n",
    "print(promo)"
   ]
  },
  {
   "cell_type": "markdown",
   "id": "4188826c",
   "metadata": {},
   "source": [
    "# what is maximum and minimum review rating by customer"
   ]
  },
  {
   "cell_type": "code",
   "execution_count": 58,
   "id": "59dc5e60",
   "metadata": {},
   "outputs": [
    {
     "name": "stdout",
     "output_type": "stream",
     "text": [
      "Max review rating: 5.0\n",
      "the minimum review rating: 2.5\n"
     ]
    }
   ],
   "source": [
    "review = df['Review Rating'].max()\n",
    "print('Max review rating:', review)\n",
    "\n",
    "\n",
    "min = df['Review Rating'].min()\n",
    "print('the minimum review rating:', min)"
   ]
  },
  {
   "cell_type": "markdown",
   "id": "3ee952c0",
   "metadata": {},
   "source": [
    "# what is most common shipping type with review rating more than 4"
   ]
  },
  {
   "cell_type": "code",
   "execution_count": 60,
   "id": "6ef8fcf1",
   "metadata": {},
   "outputs": [
    {
     "data": {
      "text/plain": [
       "0    Standard\n",
       "Name: Shipping Type, dtype: object"
      ]
     },
     "execution_count": 60,
     "metadata": {},
     "output_type": "execute_result"
    }
   ],
   "source": [
    "com = df[df['Review Rating'] > 4]['Shipping Type'].mode()\n",
    "com"
   ]
  },
  {
   "cell_type": "markdown",
   "id": "1b18a961",
   "metadata": {},
   "source": [
    "# What is the average purchase amount for customers who have made more than 30 previous purchases ?"
   ]
  },
  {
   "cell_type": "code",
   "execution_count": 62,
   "id": "a10f467e",
   "metadata": {},
   "outputs": [
    {
     "data": {
      "text/plain": [
       "60.02840542285345"
      ]
     },
     "execution_count": 62,
     "metadata": {},
     "output_type": "execute_result"
    }
   ],
   "source": [
    "pre = df[df['Previous Purchases'] > 30]['Purchase Amount (USD)'].mean()\n",
    "pre"
   ]
  },
  {
   "cell_type": "markdown",
   "id": "8165f5c9",
   "metadata": {},
   "source": [
    "# what is average purchase amount fir each color of item"
   ]
  },
  {
   "cell_type": "code",
   "execution_count": 63,
   "id": "c92e30d5",
   "metadata": {
    "collapsed": true
   },
   "outputs": [
    {
     "data": {
      "text/plain": [
       "Color\n",
       "Beige        60.414966\n",
       "Black        58.401198\n",
       "Blue         56.953947\n",
       "Brown        59.063830\n",
       "Charcoal     60.633987\n",
       "Cyan         61.891566\n",
       "Gold         61.007246\n",
       "Gray         62.490566\n",
       "Green        65.704142\n",
       "Indigo       56.251701\n",
       "Lavender     59.129252\n",
       "Magenta      57.131579\n",
       "Maroon       59.525316\n",
       "Olive        58.146893\n",
       "Orange       60.889610\n",
       "Peach        59.187919\n",
       "Pink         60.588235\n",
       "Purple       60.013245\n",
       "Red          59.317568\n",
       "Silver       56.832370\n",
       "Teal         60.808140\n",
       "Turquoise    55.613793\n",
       "Violet       61.716867\n",
       "White        62.640845\n",
       "Yellow       59.241379\n",
       "Name: Purchase Amount (USD), dtype: float64"
      ]
     },
     "execution_count": 63,
     "metadata": {},
     "output_type": "execute_result"
    }
   ],
   "source": [
    "av = df.groupby('Color')['Purchase Amount (USD)'].mean()\n",
    "av"
   ]
  },
  {
   "cell_type": "markdown",
   "id": "7e838a14",
   "metadata": {},
   "source": [
    "# What is the total purchase amount for each size of clothing items (XL, L, M, S) ?"
   ]
  },
  {
   "cell_type": "code",
   "execution_count": 64,
   "id": "e8c7d345",
   "metadata": {},
   "outputs": [
    {
     "data": {
      "text/plain": [
       "Size\n",
       "L     27864\n",
       "M     47041\n",
       "S     17416\n",
       "XL    11943\n",
       "Name: Purchase Amount (USD), dtype: int64"
      ]
     },
     "execution_count": 64,
     "metadata": {},
     "output_type": "execute_result"
    }
   ],
   "source": [
    "total = df[df['Category'] == 'Clothing'].groupby('Size')['Purchase Amount (USD)'].sum()\n",
    "total"
   ]
  },
  {
   "cell_type": "code",
   "execution_count": null,
   "id": "114d1e8a",
   "metadata": {},
   "outputs": [],
   "source": []
  }
 ],
 "metadata": {
  "kernelspec": {
   "display_name": "Python 3 (ipykernel)",
   "language": "python",
   "name": "python3"
  },
  "language_info": {
   "codemirror_mode": {
    "name": "ipython",
    "version": 3
   },
   "file_extension": ".py",
   "mimetype": "text/x-python",
   "name": "python",
   "nbconvert_exporter": "python",
   "pygments_lexer": "ipython3",
   "version": "3.11.4"
  }
 },
 "nbformat": 4,
 "nbformat_minor": 5
}
